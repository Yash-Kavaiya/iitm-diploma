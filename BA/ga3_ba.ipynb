{
 "cells": [
  {
   "cell_type": "markdown",
   "metadata": {},
   "source": [
    "# business-analysis-ga3\n",
    "\n",
    "Use the \"Run\" button to execute the code."
   ]
  },
  {
   "cell_type": "markdown",
   "metadata": {},
   "source": [
    "**CASE: Flash Cycles Targeted Mailing**\n",
    "\n",
    "Flash Cycles, is a large, multinational manufacturing company. The company manufactures and sells metal and composite bicycles to North American, European and Asian commercial markets. While its base operation is located in Bothell, Washington with 290 employees, several regional sales teams are located throughout their market base.\n",
    "\n",
    "In 2000, Adventure Works Cycles bought a small manufacturing plant, Importadores Neptuno, located in Mexico. Importadores Neptuno manufactures several critical subcomponents for the Flash Cycles product line. These subcomponents are shipped to the Bothell location for final product assembly. In 2001, Importadores Neptuno, became the sole manufacturer and distributor of the touring bicycle product group. Currently, there are four product lines: Mountain, Road, Sport and Touring. \n",
    "\n",
    "The marketing department of Flash Cycles wants to increase sales by targeting specific customers for a mailing campaign. By investigating the attributes of known customers, the company hopes to discover patterns that they can then apply to potential customers. They hope to use the discovered patterns to predict which prospective customers are most likely to purchase a product from the company.\n",
    "\n",
    "DATA SET: Cyclebuyer.csv\n",
    "The company's data warehouse, Flash Cycles DW, contains a list of past customers with their demographic data (TargetMail) with attributes such as ‘Cyclebuyer’, ‘MaritalStatus', 'YearlyIncome', 'TotalChildren', 'ChildrenAtHome', 'HouseOwnerFlag', 'NumberCarsOwned', 'Age'.\n",
    "\n",
    "Please follow the instructions given below to complete your assignment.\n",
    "\n",
    "i. Do not try feature engineering on the dataset as it will modify the answers\n",
    "\n",
    "ii. Just Load the [train_LR.csv](https://drive.google.com/file/d/1wezBl6uA3zKD3YiEYUABkIs460LCJW2r/view)\n",
    "\n",
    "iii. Create the dependent and independent variables for the training module (X_train, y_train)\n",
    "\n",
    "iv. Similarly load the [test_LR.csv](https://drive.google.com/file/d/1ZeJw9YgszPRg583OrEBk1SRmrOv8_9je/view)\n",
    "\n",
    "v. Create the dependent and independent variables for the test module (X_test, y_test)\n",
    "\n",
    "vi. Run LogisticRegression() from sklearn module in default setup and predict cycle buyer as target (positives).\n",
    "\n",
    "vii. Fit the model on X_train and y_train\n",
    "\n",
    "viii. Do not try any hyper-prameter tuning on the model as it will modify the answers\n",
    "\n",
    "ix. Predict on the X_train using the Logistic Regression model and store the predictions in y_pred_train\n",
    "\n",
    "x. Predict on the X_test using the Logistic Regression model and store the predictions in y_pred_test\n",
    "\n",
    "xi. Print the classification report for training and test data predictions\n",
    "\n",
    "xii. Create the confusion matrix for test data\n",
    "\n",
    "---"
   ]
  },
  {
   "cell_type": "code",
   "execution_count": 1,
   "metadata": {},
   "outputs": [],
   "source": [
    "import pandas as pd\n",
    "from sklearn.linear_model import LogisticRegression\n",
    "from sklearn.metrics import classification_report, confusion_matrix"
   ]
  },
  {
   "cell_type": "code",
   "execution_count": 2,
   "metadata": {},
   "outputs": [
    {
     "data": {
      "text/html": [
       "<div>\n",
       "<style scoped>\n",
       "    .dataframe tbody tr th:only-of-type {\n",
       "        vertical-align: middle;\n",
       "    }\n",
       "\n",
       "    .dataframe tbody tr th {\n",
       "        vertical-align: top;\n",
       "    }\n",
       "\n",
       "    .dataframe thead th {\n",
       "        text-align: right;\n",
       "    }\n",
       "</style>\n",
       "<table border=\"1\" class=\"dataframe\">\n",
       "  <thead>\n",
       "    <tr style=\"text-align: right;\">\n",
       "      <th></th>\n",
       "      <th>MaritalStatus</th>\n",
       "      <th>YearlyIncome</th>\n",
       "      <th>TotalChildren</th>\n",
       "      <th>ChildrenAtHome</th>\n",
       "      <th>HouseOwnerFlag</th>\n",
       "      <th>NumberCarsOwned</th>\n",
       "      <th>Age</th>\n",
       "      <th>MotorCycleBuyer</th>\n",
       "    </tr>\n",
       "  </thead>\n",
       "  <tbody>\n",
       "    <tr>\n",
       "      <th>0</th>\n",
       "      <td>1</td>\n",
       "      <td>150000</td>\n",
       "      <td>4</td>\n",
       "      <td>5</td>\n",
       "      <td>1</td>\n",
       "      <td>4</td>\n",
       "      <td>45</td>\n",
       "      <td>0</td>\n",
       "    </tr>\n",
       "    <tr>\n",
       "      <th>1</th>\n",
       "      <td>1</td>\n",
       "      <td>120000</td>\n",
       "      <td>1</td>\n",
       "      <td>1</td>\n",
       "      <td>1</td>\n",
       "      <td>4</td>\n",
       "      <td>36</td>\n",
       "      <td>0</td>\n",
       "    </tr>\n",
       "    <tr>\n",
       "      <th>2</th>\n",
       "      <td>1</td>\n",
       "      <td>70000</td>\n",
       "      <td>2</td>\n",
       "      <td>0</td>\n",
       "      <td>0</td>\n",
       "      <td>2</td>\n",
       "      <td>38</td>\n",
       "      <td>0</td>\n",
       "    </tr>\n",
       "    <tr>\n",
       "      <th>3</th>\n",
       "      <td>1</td>\n",
       "      <td>80000</td>\n",
       "      <td>5</td>\n",
       "      <td>4</td>\n",
       "      <td>1</td>\n",
       "      <td>3</td>\n",
       "      <td>35</td>\n",
       "      <td>0</td>\n",
       "    </tr>\n",
       "    <tr>\n",
       "      <th>4</th>\n",
       "      <td>0</td>\n",
       "      <td>100000</td>\n",
       "      <td>3</td>\n",
       "      <td>2</td>\n",
       "      <td>0</td>\n",
       "      <td>1</td>\n",
       "      <td>40</td>\n",
       "      <td>0</td>\n",
       "    </tr>\n",
       "    <tr>\n",
       "      <th>...</th>\n",
       "      <td>...</td>\n",
       "      <td>...</td>\n",
       "      <td>...</td>\n",
       "      <td>...</td>\n",
       "      <td>...</td>\n",
       "      <td>...</td>\n",
       "      <td>...</td>\n",
       "      <td>...</td>\n",
       "    </tr>\n",
       "    <tr>\n",
       "      <th>12379</th>\n",
       "      <td>0</td>\n",
       "      <td>120000</td>\n",
       "      <td>1</td>\n",
       "      <td>0</td>\n",
       "      <td>1</td>\n",
       "      <td>1</td>\n",
       "      <td>26</td>\n",
       "      <td>1</td>\n",
       "    </tr>\n",
       "    <tr>\n",
       "      <th>12380</th>\n",
       "      <td>0</td>\n",
       "      <td>170000</td>\n",
       "      <td>1</td>\n",
       "      <td>3</td>\n",
       "      <td>0</td>\n",
       "      <td>3</td>\n",
       "      <td>35</td>\n",
       "      <td>0</td>\n",
       "    </tr>\n",
       "    <tr>\n",
       "      <th>12381</th>\n",
       "      <td>0</td>\n",
       "      <td>40000</td>\n",
       "      <td>0</td>\n",
       "      <td>0</td>\n",
       "      <td>0</td>\n",
       "      <td>1</td>\n",
       "      <td>17</td>\n",
       "      <td>0</td>\n",
       "    </tr>\n",
       "    <tr>\n",
       "      <th>12382</th>\n",
       "      <td>1</td>\n",
       "      <td>70000</td>\n",
       "      <td>1</td>\n",
       "      <td>0</td>\n",
       "      <td>1</td>\n",
       "      <td>0</td>\n",
       "      <td>25</td>\n",
       "      <td>1</td>\n",
       "    </tr>\n",
       "    <tr>\n",
       "      <th>12383</th>\n",
       "      <td>1</td>\n",
       "      <td>80000</td>\n",
       "      <td>4</td>\n",
       "      <td>2</td>\n",
       "      <td>1</td>\n",
       "      <td>2</td>\n",
       "      <td>44</td>\n",
       "      <td>0</td>\n",
       "    </tr>\n",
       "  </tbody>\n",
       "</table>\n",
       "<p>12384 rows × 8 columns</p>\n",
       "</div>"
      ],
      "text/plain": [
       "       MaritalStatus  YearlyIncome  TotalChildren  ChildrenAtHome  \\\n",
       "0                  1        150000              4               5   \n",
       "1                  1        120000              1               1   \n",
       "2                  1         70000              2               0   \n",
       "3                  1         80000              5               4   \n",
       "4                  0        100000              3               2   \n",
       "...              ...           ...            ...             ...   \n",
       "12379              0        120000              1               0   \n",
       "12380              0        170000              1               3   \n",
       "12381              0         40000              0               0   \n",
       "12382              1         70000              1               0   \n",
       "12383              1         80000              4               2   \n",
       "\n",
       "       HouseOwnerFlag  NumberCarsOwned  Age  MotorCycleBuyer  \n",
       "0                   1                4   45                0  \n",
       "1                   1                4   36                0  \n",
       "2                   0                2   38                0  \n",
       "3                   1                3   35                0  \n",
       "4                   0                1   40                0  \n",
       "...               ...              ...  ...              ...  \n",
       "12379               1                1   26                1  \n",
       "12380               0                3   35                0  \n",
       "12381               0                1   17                0  \n",
       "12382               1                0   25                1  \n",
       "12383               1                2   44                0  \n",
       "\n",
       "[12384 rows x 8 columns]"
      ]
     },
     "execution_count": 2,
     "metadata": {},
     "output_type": "execute_result"
    }
   ],
   "source": [
    "# Load train data\n",
    "train_data = pd.read_csv('https://raw.githubusercontent.com/Yash-Kavaiya/iitm-diploma/main/BA/train_LR.csv')\n",
    "train_data"
   ]
  },
  {
   "cell_type": "code",
   "execution_count": 3,
   "metadata": {},
   "outputs": [
    {
     "name": "stdout",
     "output_type": "stream",
     "text": [
      "<class 'pandas.core.frame.DataFrame'>\n",
      "RangeIndex: 12384 entries, 0 to 12383\n",
      "Data columns (total 8 columns):\n",
      " #   Column           Non-Null Count  Dtype\n",
      "---  ------           --------------  -----\n",
      " 0   MaritalStatus    12384 non-null  int64\n",
      " 1   YearlyIncome     12384 non-null  int64\n",
      " 2   TotalChildren    12384 non-null  int64\n",
      " 3   ChildrenAtHome   12384 non-null  int64\n",
      " 4   HouseOwnerFlag   12384 non-null  int64\n",
      " 5   NumberCarsOwned  12384 non-null  int64\n",
      " 6   Age              12384 non-null  int64\n",
      " 7   MotorCycleBuyer  12384 non-null  int64\n",
      "dtypes: int64(8)\n",
      "memory usage: 774.1 KB\n"
     ]
    }
   ],
   "source": [
    "train_data.info()"
   ]
  },
  {
   "cell_type": "code",
   "execution_count": 4,
   "metadata": {},
   "outputs": [
    {
     "data": {
      "text/html": [
       "<div>\n",
       "<style scoped>\n",
       "    .dataframe tbody tr th:only-of-type {\n",
       "        vertical-align: middle;\n",
       "    }\n",
       "\n",
       "    .dataframe tbody tr th {\n",
       "        vertical-align: top;\n",
       "    }\n",
       "\n",
       "    .dataframe thead th {\n",
       "        text-align: right;\n",
       "    }\n",
       "</style>\n",
       "<table border=\"1\" class=\"dataframe\">\n",
       "  <thead>\n",
       "    <tr style=\"text-align: right;\">\n",
       "      <th></th>\n",
       "      <th>MaritalStatus</th>\n",
       "      <th>YearlyIncome</th>\n",
       "      <th>TotalChildren</th>\n",
       "      <th>ChildrenAtHome</th>\n",
       "      <th>HouseOwnerFlag</th>\n",
       "      <th>NumberCarsOwned</th>\n",
       "      <th>Age</th>\n",
       "      <th>MotorCycleBuyer</th>\n",
       "    </tr>\n",
       "  </thead>\n",
       "  <tbody>\n",
       "    <tr>\n",
       "      <th>0</th>\n",
       "      <td>1</td>\n",
       "      <td>80000</td>\n",
       "      <td>4</td>\n",
       "      <td>2</td>\n",
       "      <td>1</td>\n",
       "      <td>1</td>\n",
       "      <td>47</td>\n",
       "      <td>0</td>\n",
       "    </tr>\n",
       "    <tr>\n",
       "      <th>1</th>\n",
       "      <td>0</td>\n",
       "      <td>40000</td>\n",
       "      <td>4</td>\n",
       "      <td>0</td>\n",
       "      <td>0</td>\n",
       "      <td>2</td>\n",
       "      <td>51</td>\n",
       "      <td>0</td>\n",
       "    </tr>\n",
       "    <tr>\n",
       "      <th>2</th>\n",
       "      <td>0</td>\n",
       "      <td>20000</td>\n",
       "      <td>2</td>\n",
       "      <td>2</td>\n",
       "      <td>1</td>\n",
       "      <td>0</td>\n",
       "      <td>28</td>\n",
       "      <td>0</td>\n",
       "    </tr>\n",
       "    <tr>\n",
       "      <th>3</th>\n",
       "      <td>1</td>\n",
       "      <td>80000</td>\n",
       "      <td>4</td>\n",
       "      <td>0</td>\n",
       "      <td>0</td>\n",
       "      <td>0</td>\n",
       "      <td>28</td>\n",
       "      <td>1</td>\n",
       "    </tr>\n",
       "    <tr>\n",
       "      <th>4</th>\n",
       "      <td>1</td>\n",
       "      <td>40000</td>\n",
       "      <td>0</td>\n",
       "      <td>0</td>\n",
       "      <td>1</td>\n",
       "      <td>2</td>\n",
       "      <td>19</td>\n",
       "      <td>0</td>\n",
       "    </tr>\n",
       "    <tr>\n",
       "      <th>...</th>\n",
       "      <td>...</td>\n",
       "      <td>...</td>\n",
       "      <td>...</td>\n",
       "      <td>...</td>\n",
       "      <td>...</td>\n",
       "      <td>...</td>\n",
       "      <td>...</td>\n",
       "      <td>...</td>\n",
       "    </tr>\n",
       "    <tr>\n",
       "      <th>6095</th>\n",
       "      <td>0</td>\n",
       "      <td>40000</td>\n",
       "      <td>0</td>\n",
       "      <td>0</td>\n",
       "      <td>1</td>\n",
       "      <td>1</td>\n",
       "      <td>27</td>\n",
       "      <td>1</td>\n",
       "    </tr>\n",
       "    <tr>\n",
       "      <th>6096</th>\n",
       "      <td>0</td>\n",
       "      <td>40000</td>\n",
       "      <td>1</td>\n",
       "      <td>0</td>\n",
       "      <td>1</td>\n",
       "      <td>0</td>\n",
       "      <td>59</td>\n",
       "      <td>1</td>\n",
       "    </tr>\n",
       "    <tr>\n",
       "      <th>6097</th>\n",
       "      <td>0</td>\n",
       "      <td>30000</td>\n",
       "      <td>1</td>\n",
       "      <td>0</td>\n",
       "      <td>1</td>\n",
       "      <td>0</td>\n",
       "      <td>37</td>\n",
       "      <td>0</td>\n",
       "    </tr>\n",
       "    <tr>\n",
       "      <th>6098</th>\n",
       "      <td>0</td>\n",
       "      <td>80000</td>\n",
       "      <td>2</td>\n",
       "      <td>1</td>\n",
       "      <td>1</td>\n",
       "      <td>3</td>\n",
       "      <td>46</td>\n",
       "      <td>1</td>\n",
       "    </tr>\n",
       "    <tr>\n",
       "      <th>6099</th>\n",
       "      <td>0</td>\n",
       "      <td>80000</td>\n",
       "      <td>2</td>\n",
       "      <td>0</td>\n",
       "      <td>0</td>\n",
       "      <td>1</td>\n",
       "      <td>39</td>\n",
       "      <td>1</td>\n",
       "    </tr>\n",
       "  </tbody>\n",
       "</table>\n",
       "<p>6100 rows × 8 columns</p>\n",
       "</div>"
      ],
      "text/plain": [
       "      MaritalStatus  YearlyIncome  TotalChildren  ChildrenAtHome  \\\n",
       "0                 1         80000              4               2   \n",
       "1                 0         40000              4               0   \n",
       "2                 0         20000              2               2   \n",
       "3                 1         80000              4               0   \n",
       "4                 1         40000              0               0   \n",
       "...             ...           ...            ...             ...   \n",
       "6095              0         40000              0               0   \n",
       "6096              0         40000              1               0   \n",
       "6097              0         30000              1               0   \n",
       "6098              0         80000              2               1   \n",
       "6099              0         80000              2               0   \n",
       "\n",
       "      HouseOwnerFlag  NumberCarsOwned  Age  MotorCycleBuyer  \n",
       "0                  1                1   47                0  \n",
       "1                  0                2   51                0  \n",
       "2                  1                0   28                0  \n",
       "3                  0                0   28                1  \n",
       "4                  1                2   19                0  \n",
       "...              ...              ...  ...              ...  \n",
       "6095               1                1   27                1  \n",
       "6096               1                0   59                1  \n",
       "6097               1                0   37                0  \n",
       "6098               1                3   46                1  \n",
       "6099               0                1   39                1  \n",
       "\n",
       "[6100 rows x 8 columns]"
      ]
     },
     "execution_count": 4,
     "metadata": {},
     "output_type": "execute_result"
    }
   ],
   "source": [
    "test_data = pd.read_csv('https://raw.githubusercontent.com/Yash-Kavaiya/iitm-diploma/main/BA/test_LR.csv')\n",
    "test_data"
   ]
  },
  {
   "cell_type": "code",
   "execution_count": 5,
   "metadata": {},
   "outputs": [
    {
     "name": "stdout",
     "output_type": "stream",
     "text": [
      "<class 'pandas.core.frame.DataFrame'>\n",
      "RangeIndex: 6100 entries, 0 to 6099\n",
      "Data columns (total 8 columns):\n",
      " #   Column           Non-Null Count  Dtype\n",
      "---  ------           --------------  -----\n",
      " 0   MaritalStatus    6100 non-null   int64\n",
      " 1   YearlyIncome     6100 non-null   int64\n",
      " 2   TotalChildren    6100 non-null   int64\n",
      " 3   ChildrenAtHome   6100 non-null   int64\n",
      " 4   HouseOwnerFlag   6100 non-null   int64\n",
      " 5   NumberCarsOwned  6100 non-null   int64\n",
      " 6   Age              6100 non-null   int64\n",
      " 7   MotorCycleBuyer  6100 non-null   int64\n",
      "dtypes: int64(8)\n",
      "memory usage: 381.4 KB\n"
     ]
    }
   ],
   "source": [
    "test_data.info()"
   ]
  },
  {
   "cell_type": "markdown",
   "metadata": {},
   "source": [
    "### Q1. How many observations are available in the training data?"
   ]
  },
  {
   "cell_type": "code",
   "execution_count": 6,
   "metadata": {},
   "outputs": [
    {
     "data": {
      "text/plain": [
       "12384"
      ]
     },
     "execution_count": 6,
     "metadata": {},
     "output_type": "execute_result"
    }
   ],
   "source": [
    "train_data.shape[0]"
   ]
  },
  {
   "cell_type": "markdown",
   "metadata": {},
   "source": [
    "### Q2. How many observations are available in the test data?"
   ]
  },
  {
   "cell_type": "code",
   "execution_count": 7,
   "metadata": {},
   "outputs": [
    {
     "data": {
      "text/plain": [
       "6100"
      ]
     },
     "execution_count": 7,
     "metadata": {},
     "output_type": "execute_result"
    }
   ],
   "source": [
    "test_data.shape[0]"
   ]
  },
  {
   "cell_type": "markdown",
   "metadata": {},
   "source": [
    "### Q3. What is the proportion of customers who have not bought cycles in the training dataset?"
   ]
  },
  {
   "cell_type": "code",
   "execution_count": 8,
   "metadata": {},
   "outputs": [
    {
     "data": {
      "text/plain": [
       "50.0"
      ]
     },
     "execution_count": 8,
     "metadata": {},
     "output_type": "execute_result"
    }
   ],
   "source": [
    "round(len(train_data[train_data['MotorCycleBuyer']==0])/len(train_data), 2)*100"
   ]
  },
  {
   "cell_type": "markdown",
   "metadata": {},
   "source": [
    "### Q4. What is the proportion of customers who have bought cycles in the training dataset?"
   ]
  },
  {
   "cell_type": "code",
   "execution_count": 15,
   "metadata": {},
   "outputs": [
    {
     "data": {
      "text/plain": [
       "0    6244\n",
       "1    6140\n",
       "Name: MotorCycleBuyer, dtype: int64"
      ]
     },
     "execution_count": 15,
     "metadata": {},
     "output_type": "execute_result"
    }
   ],
   "source": [
    "train_data.MotorCycleBuyer.value_counts()"
   ]
  },
  {
   "cell_type": "code",
   "execution_count": 9,
   "metadata": {},
   "outputs": [
    {
     "data": {
      "text/plain": [
       "50.41989664082688"
      ]
     },
     "execution_count": 9,
     "metadata": {},
     "output_type": "execute_result"
    }
   ],
   "source": [
    "(6244/12384)*100"
   ]
  },
  {
   "cell_type": "code",
   "execution_count": 10,
   "metadata": {},
   "outputs": [
    {
     "data": {
      "text/plain": [
       "49.58010335917313"
      ]
     },
     "execution_count": 10,
     "metadata": {},
     "output_type": "execute_result"
    }
   ],
   "source": [
    "(6140/12384)*100"
   ]
  },
  {
   "cell_type": "markdown",
   "metadata": {},
   "source": [
    "### Fit the model on the train data and make predictions on the train data, and answer questions (7 to 9).What is the training accuracy?\n",
    "\n",
    "(use LogisticRegressionand from sklearn.linear_model and random state=17)"
   ]
  },
  {
   "cell_type": "code",
   "execution_count": 15,
   "metadata": {},
   "outputs": [],
   "source": [
    "X_train = train_data.drop('MotorCycleBuyer', axis=1)\n",
    "y_train = train_data['MotorCycleBuyer']\n",
    "# Create dependent and independent variables for test module\n",
    "X_test = test_data.drop('MotorCycleBuyer', axis=1)\n",
    "y_test = test_data['MotorCycleBuyer']"
   ]
  },
  {
   "cell_type": "code",
   "execution_count": 20,
   "metadata": {},
   "outputs": [],
   "source": [
    "from sklearn.linear_model import LogisticRegression\n",
    "from sklearn.metrics import accuracy_score, f1_score, recall_score, precision_score, confusion_matrix, ConfusionMatrixDisplay"
   ]
  },
  {
   "cell_type": "code",
   "execution_count": 16,
   "metadata": {},
   "outputs": [],
   "source": [
    "lr = LogisticRegression(random_state=17)\n",
    "lr.fit(X_train, y_train)\n",
    "\n",
    "# Predict on X_train and store the predictions in y_pred_train\n",
    "y_pred_train = lr.predict(X_train)\n",
    "\n",
    "# Predict on X_test and store the predictions in y_pred_test\n",
    "y_pred_test = lr.predict(X_test)"
   ]
  },
  {
   "cell_type": "code",
   "execution_count": 21,
   "metadata": {},
   "outputs": [
    {
     "data": {
      "text/plain": [
       "0.5130813953488372"
      ]
     },
     "execution_count": 21,
     "metadata": {},
     "output_type": "execute_result"
    }
   ],
   "source": [
    "accuracy_score(y_train, y_pred_train)"
   ]
  },
  {
   "cell_type": "code",
   "execution_count": 17,
   "metadata": {},
   "outputs": [
    {
     "name": "stdout",
     "output_type": "stream",
     "text": [
      "\n",
      "Training Accuracy: 0.51\n"
     ]
    }
   ],
   "source": [
    "print(\"\\nTraining Accuracy:\", round(lr.score(X_train, y_train), 2))"
   ]
  },
  {
   "cell_type": "markdown",
   "metadata": {},
   "source": [
    "### 8 What is the training data precision of your model if the aim is to find customers who will not purchase a motorcycle?"
   ]
  },
  {
   "cell_type": "code",
   "execution_count": 22,
   "metadata": {},
   "outputs": [
    {
     "data": {
      "text/plain": [
       "<sklearn.metrics._plot.confusion_matrix.ConfusionMatrixDisplay at 0x7f7d91728b80>"
      ]
     },
     "execution_count": 22,
     "metadata": {},
     "output_type": "execute_result"
    },
    {
     "data": {
      "image/png": "[encoded data removed]",
      "text/plain": [
       "<Figure size 432x288 with 2 Axes>"
      ]
     },
     "metadata": {
      "needs_background": "light"
     },
     "output_type": "display_data"
    }
   ],
   "source": [
    "cm = confusion_matrix(y_train, y_pred_train)\n",
    "ConfusionMatrixDisplay.from_predictions(y_train, y_pred_train)"
   ]
  },
  {
   "cell_type": "code",
   "execution_count": 26,
   "metadata": {},
   "outputs": [
    {
     "name": "stdout",
     "output_type": "stream",
     "text": [
      "[[3832 2412]\n",
      " [3618 2522]]\n"
     ]
    }
   ],
   "source": [
    "print(cm)"
   ]
  },
  {
   "cell_type": "code",
   "execution_count": 27,
   "metadata": {},
   "outputs": [
    {
     "data": {
      "text/plain": [
       "0.5143624161073825"
      ]
     },
     "execution_count": 27,
     "metadata": {},
     "output_type": "execute_result"
    }
   ],
   "source": [
    "cm[0,0]/(cm[0,0]+cm[1,0])"
   ]
  },
  {
   "cell_type": "code",
   "execution_count": 23,
   "metadata": {},
   "outputs": [
    {
     "name": "stdout",
     "output_type": "stream",
     "text": [
      "Classification Report - Training Data:\n",
      "               precision    recall  f1-score   support\n",
      "\n",
      "           0       0.51      0.61      0.56      6244\n",
      "           1       0.51      0.41      0.46      6140\n",
      "\n",
      "    accuracy                           0.51     12384\n",
      "   macro avg       0.51      0.51      0.51     12384\n",
      "weighted avg       0.51      0.51      0.51     12384\n",
      "\n",
      "\n",
      "Classification Report - Test Data:\n",
      "               precision    recall  f1-score   support\n",
      "\n",
      "           0       0.52      0.70      0.60      3108\n",
      "           1       0.51      0.32      0.39      2992\n",
      "\n",
      "    accuracy                           0.51      6100\n",
      "   macro avg       0.51      0.51      0.49      6100\n",
      "weighted avg       0.51      0.51      0.49      6100\n",
      "\n"
     ]
    }
   ],
   "source": [
    "# Print the classification report for training and test data predictions\n",
    "print(\"Classification Report - Training Data:\\n\", classification_report(y_train, y_pred_train))\n",
    "print(\"\\nClassification Report - Test Data:\\n\", classification_report(y_test, y_pred_test))"
   ]
  },
  {
   "cell_type": "markdown",
   "metadata": {},
   "source": [
    "### Q9. What is the training data recall of your model if the aim is to find customers who will buy cycles?"
   ]
  },
  {
   "cell_type": "code",
   "execution_count": 28,
   "metadata": {},
   "outputs": [
    {
     "data": {
      "text/plain": [
       "0.4107491856677524"
      ]
     },
     "execution_count": 28,
     "metadata": {},
     "output_type": "execute_result"
    }
   ],
   "source": [
    "cm[1,1]/(cm[1,1]+cm[1,0])"
   ]
  },
  {
   "cell_type": "markdown",
   "metadata": {},
   "source": [
    "### Q10. After training your model on the train data, make predictions on the test data, and answer questions 10 to 14. From the confusion matrix, identify the number of true positives."
   ]
  },
  {
   "cell_type": "code",
   "execution_count": 31,
   "metadata": {},
   "outputs": [],
   "source": [
    "y_pred_test = lr.predict(X_test)"
   ]
  },
  {
   "cell_type": "code",
   "execution_count": 32,
   "metadata": {},
   "outputs": [
    {
     "ename": "TypeError",
     "evalue": "'numpy.ndarray' object is not callable",
     "output_type": "error",
     "traceback": [
      "\u001b[0;31m---------------------------------------------------------------------------\u001b[0m",
      "\u001b[0;31mTypeError\u001b[0m                                 Traceback (most recent call last)",
      "\u001b[0;32m/tmp/ipykernel_37/2019940460.py\u001b[0m in \u001b[0;36m<module>\u001b[0;34m\u001b[0m\n\u001b[0;32m----> 1\u001b[0;31m \u001b[0mcm2\u001b[0m \u001b[0;34m=\u001b[0m \u001b[0mconfusion_matrix\u001b[0m\u001b[0;34m(\u001b[0m\u001b[0my_test\u001b[0m\u001b[0;34m,\u001b[0m \u001b[0my_pred_test\u001b[0m\u001b[0;34m)\u001b[0m\u001b[0;34m\u001b[0m\u001b[0;34m\u001b[0m\u001b[0m\n\u001b[0m\u001b[1;32m      2\u001b[0m \u001b[0mConfusionMatrixDisplay\u001b[0m\u001b[0;34m.\u001b[0m\u001b[0mfrom_predictions\u001b[0m\u001b[0;34m(\u001b[0m\u001b[0my_test\u001b[0m\u001b[0;34m,\u001b[0m \u001b[0my_pred_test\u001b[0m\u001b[0;34m)\u001b[0m\u001b[0;34m\u001b[0m\u001b[0;34m\u001b[0m\u001b[0m\n",
      "\u001b[0;31mTypeError\u001b[0m: 'numpy.ndarray' object is not callable"
     ]
    }
   ],
   "source": [
    "cm2 = confusion_matrix(y_test, y_pred_test)\n",
    "ConfusionMatrixDisplay.from_predictions(y_test, y_pred_test)"
   ]
  },
  {
   "cell_type": "code",
   "execution_count": 5,
   "metadata": {},
   "outputs": [
    {
     "data": {
      "text/html": [
       "<div>\n",
       "<style scoped>\n",
       "    .dataframe tbody tr th:only-of-type {\n",
       "        vertical-align: middle;\n",
       "    }\n",
       "\n",
       "    .dataframe tbody tr th {\n",
       "        vertical-align: top;\n",
       "    }\n",
       "\n",
       "    .dataframe thead th {\n",
       "        text-align: right;\n",
       "    }\n",
       "</style>\n",
       "<table border=\"1\" class=\"dataframe\">\n",
       "  <thead>\n",
       "    <tr style=\"text-align: right;\">\n",
       "      <th></th>\n",
       "      <th>MaritalStatus</th>\n",
       "      <th>YearlyIncome</th>\n",
       "      <th>TotalChildren</th>\n",
       "      <th>ChildrenAtHome</th>\n",
       "      <th>HouseOwnerFlag</th>\n",
       "      <th>NumberCarsOwned</th>\n",
       "      <th>Age</th>\n",
       "      <th>MotorCycleBuyer</th>\n",
       "    </tr>\n",
       "  </thead>\n",
       "  <tbody>\n",
       "    <tr>\n",
       "      <th>0</th>\n",
       "      <td>1</td>\n",
       "      <td>150000</td>\n",
       "      <td>4</td>\n",
       "      <td>5</td>\n",
       "      <td>1</td>\n",
       "      <td>4</td>\n",
       "      <td>45</td>\n",
       "      <td>0</td>\n",
       "    </tr>\n",
       "    <tr>\n",
       "      <th>1</th>\n",
       "      <td>1</td>\n",
       "      <td>120000</td>\n",
       "      <td>1</td>\n",
       "      <td>1</td>\n",
       "      <td>1</td>\n",
       "      <td>4</td>\n",
       "      <td>36</td>\n",
       "      <td>0</td>\n",
       "    </tr>\n",
       "    <tr>\n",
       "      <th>2</th>\n",
       "      <td>1</td>\n",
       "      <td>70000</td>\n",
       "      <td>2</td>\n",
       "      <td>0</td>\n",
       "      <td>0</td>\n",
       "      <td>2</td>\n",
       "      <td>38</td>\n",
       "      <td>0</td>\n",
       "    </tr>\n",
       "    <tr>\n",
       "      <th>3</th>\n",
       "      <td>1</td>\n",
       "      <td>80000</td>\n",
       "      <td>5</td>\n",
       "      <td>4</td>\n",
       "      <td>1</td>\n",
       "      <td>3</td>\n",
       "      <td>35</td>\n",
       "      <td>0</td>\n",
       "    </tr>\n",
       "    <tr>\n",
       "      <th>4</th>\n",
       "      <td>0</td>\n",
       "      <td>100000</td>\n",
       "      <td>3</td>\n",
       "      <td>2</td>\n",
       "      <td>0</td>\n",
       "      <td>1</td>\n",
       "      <td>40</td>\n",
       "      <td>0</td>\n",
       "    </tr>\n",
       "    <tr>\n",
       "      <th>...</th>\n",
       "      <td>...</td>\n",
       "      <td>...</td>\n",
       "      <td>...</td>\n",
       "      <td>...</td>\n",
       "      <td>...</td>\n",
       "      <td>...</td>\n",
       "      <td>...</td>\n",
       "      <td>...</td>\n",
       "    </tr>\n",
       "    <tr>\n",
       "      <th>12379</th>\n",
       "      <td>0</td>\n",
       "      <td>120000</td>\n",
       "      <td>1</td>\n",
       "      <td>0</td>\n",
       "      <td>1</td>\n",
       "      <td>1</td>\n",
       "      <td>26</td>\n",
       "      <td>1</td>\n",
       "    </tr>\n",
       "    <tr>\n",
       "      <th>12380</th>\n",
       "      <td>0</td>\n",
       "      <td>170000</td>\n",
       "      <td>1</td>\n",
       "      <td>3</td>\n",
       "      <td>0</td>\n",
       "      <td>3</td>\n",
       "      <td>35</td>\n",
       "      <td>0</td>\n",
       "    </tr>\n",
       "    <tr>\n",
       "      <th>12381</th>\n",
       "      <td>0</td>\n",
       "      <td>40000</td>\n",
       "      <td>0</td>\n",
       "      <td>0</td>\n",
       "      <td>0</td>\n",
       "      <td>1</td>\n",
       "      <td>17</td>\n",
       "      <td>0</td>\n",
       "    </tr>\n",
       "    <tr>\n",
       "      <th>12382</th>\n",
       "      <td>1</td>\n",
       "      <td>70000</td>\n",
       "      <td>1</td>\n",
       "      <td>0</td>\n",
       "      <td>1</td>\n",
       "      <td>0</td>\n",
       "      <td>25</td>\n",
       "      <td>1</td>\n",
       "    </tr>\n",
       "    <tr>\n",
       "      <th>12383</th>\n",
       "      <td>1</td>\n",
       "      <td>80000</td>\n",
       "      <td>4</td>\n",
       "      <td>2</td>\n",
       "      <td>1</td>\n",
       "      <td>2</td>\n",
       "      <td>44</td>\n",
       "      <td>0</td>\n",
       "    </tr>\n",
       "  </tbody>\n",
       "</table>\n",
       "<p>12384 rows × 8 columns</p>\n",
       "</div>"
      ],
      "text/plain": [
       "       MaritalStatus  YearlyIncome  TotalChildren  ChildrenAtHome  \\\n",
       "0                  1        150000              4               5   \n",
       "1                  1        120000              1               1   \n",
       "2                  1         70000              2               0   \n",
       "3                  1         80000              5               4   \n",
       "4                  0        100000              3               2   \n",
       "...              ...           ...            ...             ...   \n",
       "12379              0        120000              1               0   \n",
       "12380              0        170000              1               3   \n",
       "12381              0         40000              0               0   \n",
       "12382              1         70000              1               0   \n",
       "12383              1         80000              4               2   \n",
       "\n",
       "       HouseOwnerFlag  NumberCarsOwned  Age  MotorCycleBuyer  \n",
       "0                   1                4   45                0  \n",
       "1                   1                4   36                0  \n",
       "2                   0                2   38                0  \n",
       "3                   1                3   35                0  \n",
       "4                   0                1   40                0  \n",
       "...               ...              ...  ...              ...  \n",
       "12379               1                1   26                1  \n",
       "12380               0                3   35                0  \n",
       "12381               0                1   17                0  \n",
       "12382               1                0   25                1  \n",
       "12383               1                2   44                0  \n",
       "\n",
       "[12384 rows x 8 columns]"
      ]
     },
     "execution_count": 5,
     "metadata": {},
     "output_type": "execute_result"
    }
   ],
   "source": [
    "train_data"
   ]
  },
  {
   "cell_type": "code",
   "execution_count": 12,
   "metadata": {},
   "outputs": [
    {
     "name": "stdout",
     "output_type": "stream",
     "text": [
      "\n",
      "Number of observations available in the training data: 12384\n"
     ]
    }
   ],
   "source": [
    "print(\"\\nNumber of observations available in the training data:\", len(train_data))"
   ]
  },
  {
   "cell_type": "code",
   "execution_count": 8,
   "metadata": {},
   "outputs": [],
   "source": [
    "\n"
   ]
  },
  {
   "cell_type": "code",
   "execution_count": 13,
   "metadata": {},
   "outputs": [
    {
     "name": "stdout",
     "output_type": "stream",
     "text": [
      "\n",
      "Number of observations available in the test data: 6100\n"
     ]
    }
   ],
   "source": [
    "test_data\n",
    "# How many observations are available in the test data?\n",
    "print(\"\\nNumber of observations available in the test data:\", len(test_data))"
   ]
  },
  {
   "cell_type": "code",
   "execution_count": 11,
   "metadata": {},
   "outputs": [
    {
     "data": {
      "text/plain": [
       "0    6244\n",
       "1    6140\n",
       "Name: MotorCycleBuyer, dtype: int64"
      ]
     },
     "execution_count": 11,
     "metadata": {},
     "output_type": "execute_result"
    }
   ],
   "source": [
    "train_data.MotorCycleBuyer.value_counts()"
   ]
  },
  {
   "cell_type": "code",
   "execution_count": 16,
   "metadata": {},
   "outputs": [
    {
     "name": "stdout",
     "output_type": "stream",
     "text": [
      "\n",
      "Proportion of customers who have not purchased a motorcycle in the training dataset: 0.5\n",
      "\n",
      "Proportion of customers who have purchased a motorcycle in the training dataset: 0.5\n",
      "\n",
      "Proportion of customers who have not purchased a motorcycle in the test dataset: 0.51\n",
      "\n",
      "Proportion of customers who have purchased a motorcycle in the test dataset: 0.49\n"
     ]
    }
   ],
   "source": [
    "# What is the proportion of customers who have not purchased a motorcycle in the training dataset?\n",
    "print(\"\\nProportion of customers who have not purchased a motorcycle in the training dataset:\",\n",
    "      round(len(train_data[train_data['MotorCycleBuyer']==0])/len(train_data), 2))\n",
    "\n",
    "# What is the proportion of customers who have purchased a motorcycle in the training dataset?\n",
    "print(\"\\nProportion of customers who have purchased a motorcycle in the training dataset:\",\n",
    "      round(len(train_data[train_data['MotorCycleBuyer']==1])/len(train_data), 2))\n",
    "\n",
    "# What is the proportion of customers who have not purchased a motorcycle in the test dataset?\n",
    "print(\"\\nProportion of customers who have not purchased a motorcycle in the test dataset:\",\n",
    "      round(len(test_data[test_data['MotorCycleBuyer']==0])/len(test_data), 2))\n",
    "\n",
    "# What is the proportion of customers who have purchased a motorcycle in the test dataset?\n",
    "print(\"\\nProportion of customers who have purchased a motorcycle in the test dataset:\",\n",
    "      round(len(test_data[test_data['MotorCycleBuyer']==1])/len(test_data), 2))"
   ]
  },
  {
   "cell_type": "code",
   "execution_count": 18,
   "metadata": {
    "code_folding": []
   },
   "outputs": [],
   "source": [
    "# Fit the model on X_train and y_train\n",
    "lr = LogisticRegression(random_state=17)\n",
    "lr.fit(X_train, y_train)\n",
    "\n",
    "# Predict on X_train and store the predictions in y_pred_train\n",
    "y_pred_train = lr.predict(X_train)\n",
    "\n",
    "# Predict on X_test and store the predictions in y_pred_test\n",
    "y_pred_test = lr.predict(X_test)\n"
   ]
  },
  {
   "cell_type": "code",
   "execution_count": 19,
   "metadata": {},
   "outputs": [
    {
     "name": "stdout",
     "output_type": "stream",
     "text": [
      "\n",
      "Training Accuracy: 0.51\n"
     ]
    }
   ],
   "source": []
  },
  {
   "cell_type": "code",
   "execution_count": 25,
   "metadata": {},
   "outputs": [],
   "source": [
    "import numpy as np\n",
    "X=np.array([[1,2,3],[1,5,9],[8,8,9]])"
   ]
  },
  {
   "cell_type": "code",
   "execution_count": null,
   "metadata": {},
   "outputs": [],
   "source": []
  }
 ],
 "metadata": {
  "kernelspec": {
   "display_name": "Python 3 (ipykernel)",
   "language": "python",
   "name": "python3"
  },
  "language_info": {
   "codemirror_mode": {
    "name": "ipython",
    "version": 3
   },
   "file_extension": ".py",
   "mimetype": "text/x-python",
   "name": "python",
   "nbconvert_exporter": "python",
   "pygments_lexer": "ipython3",
   "version": "3.9.7"
  }
 },
 "nbformat": 4,
 "nbformat_minor": 2
}
